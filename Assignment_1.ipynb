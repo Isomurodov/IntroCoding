{
 "cells": [
  {
   "cell_type": "markdown",
   "metadata": {},
   "source": [
    "# Assignment 1\n",
    "### Ex 1\n",
    "Write a program which asks you for the starting day of a holiday  (one of the strings: \"Mon\", \"Tue\", \"Wed\", \"Thu\", \"Fry\", \"Sat\" or \"Sun\"),  and the length of the stay (no. of days). The program has to print the name of day of the week you will return on."
   ]
  },
  {
   "cell_type": "markdown",
   "metadata": {
    "collapsed": true
   },
   "source": [
    "###  Ex 2\n",
    "Write a program that, given the mark of an exam, returns the grade corresponding to\n",
    "that mark (a string) according to this scheme:\n",
    "````\n",
    "     [30-27)   'A'\n",
    "     [27-25)   'B'\n",
    "     [25-20)   'C'\n",
    "     [20-18]   'D'\n",
    "     [0-18)     'Fail'\n",
    "````"
   ]
  },
  {
   "cell_type": "markdown",
   "metadata": {},
   "source": [
    "###  Ex 3\n",
    "Given a sequence of *n* integers (*n* is read from input, as well as the sequence), compute and print the differences between each consecutive pairs (gap), the max and the min gap."
   ]
  },
  {
   "cell_type": "markdown",
   "metadata": {},
   "source": [
    "### Ex 4 \n",
    "Write a program to display the sum of the series [ 9 + 99 + 999 + 9999 ...] of length n.  Input the number or terms: n.    Display the series and the sum."
   ]
  },
  {
   "cell_type": "markdown",
   "metadata": {},
   "source": [
    "### Ex 5 \n",
    "Write a program to display a pyramid pattern of height n using the character: '*'. \n",
    "\n",
    "Example with n=4:\n",
    "```\n",
    "   *\n",
    "  *** \n",
    " *****\n",
    "*******\n",
    "```"
   ]
  }
 ],
 "metadata": {
  "kernelspec": {
   "display_name": "Python 3",
   "language": "python",
   "name": "python3"
  },
  "language_info": {
   "codemirror_mode": {
    "name": "ipython",
    "version": 3
   },
   "file_extension": ".py",
   "mimetype": "text/x-python",
   "name": "python",
   "nbconvert_exporter": "python",
   "pygments_lexer": "ipython3",
   "version": "3.5.2"
  }
 },
 "nbformat": 4,
 "nbformat_minor": 2
}
