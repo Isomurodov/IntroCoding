{
  "nbformat": 4,
  "nbformat_minor": 0,
  "metadata": {
    "colab": {
      "name": "exercise 2.ipynb",
      "version": "0.3.2",
      "provenance": [],
      "collapsed_sections": [],
      "include_colab_link": true
    },
    "kernelspec": {
      "name": "python3",
      "display_name": "Python 3"
    }
  },
  "cells": [
    {
      "cell_type": "markdown",
      "metadata": {
        "id": "view-in-github",
        "colab_type": "text"
      },
      "source": [
        "<a href=\"https://colab.research.google.com/github/Isomurodov/IntroCoding/blob/master/exercise_2.ipynb\" target=\"_parent\"><img src=\"https://colab.research.google.com/assets/colab-badge.svg\" alt=\"Open In Colab\"/></a>"
      ]
    },
    {
      "metadata": {
        "id": "ZFXYcgUY8UjH",
        "colab_type": "code",
        "colab": {
          "base_uri": "https://localhost:8080/",
          "height": 85
        },
        "outputId": "9c6062b0-7e2e-4f0b-d4d4-ce6a6b29bf7b"
      },
      "cell_type": "code",
      "source": [
        "H=int(input(\"Hour:\"))\n",
        "M=int(input(\"Minute:\"))\n",
        "S=int(input(\"Second:\"))\n",
        "print(\"how many minutes passed since the beginning of the day:\",H*60+M+S*(1/60))"
      ],
      "execution_count": 1,
      "outputs": [
        {
          "output_type": "stream",
          "text": [
            "Hour:23\n",
            "Minute:08\n",
            "Second:15\n",
            "how many minutes passed since the beginning of the day: 1388.25\n"
          ],
          "name": "stdout"
        }
      ]
    }
  ]
}