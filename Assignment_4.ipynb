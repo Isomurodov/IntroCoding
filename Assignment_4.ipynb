{
 "cells": [
  {
   "cell_type": "markdown",
   "metadata": {},
   "source": [
    "# Assignment 4\n",
    "\n",
    "#### Ex 1\n",
    "Write a function that takes a date in the `“dd-MMM-yy”` format (a string) and returns a tuple of integers  `(y, m, d)`,   where a tuple in an immutable list). \n",
    "*HINT: Create a dictionary suitable for decoding month names to numbers. Use the string operations to split the date into 3 items using the `'-'` character as a separator. Correct the year to include all of the digits (the years go from 1950 till 2010).*\n",
    "\n",
    "\n",
    "\n"
   ]
  },
  {
   "cell_type": "markdown",
   "metadata": {},
   "source": [
    "#### Ex 2\n",
    "Read from the keyboard *n* pairs `(name, phone number)`, and write them to a file, a pair per line. \n",
    "\n",
    "Write a function that reads the file and stores the pairs in a dictionary. Write another function that reads a name, and lookup the dictionary for the input name, and returns either the associated phone number or -1. "
   ]
  },
  {
   "cell_type": "markdown",
   "metadata": {},
   "source": [
    "#### Ex 3\n",
    "Take all the words of a vocabulary (the one used for *binary search*), and stores them as keys in a dictionary. It doesn’t matter what the values are. You can use the `in` operator as a fast way to check whether a word of the Alice's book is in the dictionary. \n",
    "\n",
    "Compare the speed of this implementation with the linear and the binary search."
   ]
  }
 ],
 "metadata": {
  "kernelspec": {
   "display_name": "Python 3",
   "language": "python",
   "name": "python3"
  },
  "language_info": {
   "codemirror_mode": {
    "name": "ipython",
    "version": 3
   },
   "file_extension": ".py",
   "mimetype": "text/x-python",
   "name": "python",
   "nbconvert_exporter": "python",
   "pygments_lexer": "ipython3",
   "version": "3.5.2"
  }
 },
 "nbformat": 4,
 "nbformat_minor": 2
}
