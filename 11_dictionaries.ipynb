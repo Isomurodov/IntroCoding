{
 "cells": [
  {
   "cell_type": "markdown",
   "metadata": {},
   "source": [
    "# Dictionaries\n",
    "\n",
    "In Python there is another important built-in type, called **dictionary**. \n",
    "\n",
    "We can think of a dictionary as a more general list, where the indices can be (almost) any type, not only ```int``` types.\n",
    "\n",
    "A dictionary contains a collection of (**key-value pair**). More specifically:\n",
    "\n",
    "1. a collection of *distinct* indices, which are called **keys**;\n",
    "2. a collection of **values**, where each key is associated with a single value .\n",
    "\n",
    "In mathematical language, a dictionary represents a mapping  $keys \\rightarrow values$, so you\n",
    "can also say that “each key maps to a value”. \n",
    "\n",
    "As an example, we can build a dictionary that\n",
    "maps from English to Italian words, so the keys and the values are all strings.\n",
    "\n"
   ]
  },
  {
   "cell_type": "code",
   "execution_count": 3,
   "metadata": {},
   "outputs": [
    {
     "name": "stdout",
     "output_type": "stream",
     "text": [
      "{'one': 'uno'}\n",
      "uno\n",
      "tre\n",
      "due\n",
      "******************\n",
      "{'one': 'uno', 'three': 'tre', 'two': 'due'}\n"
     ]
    }
   ],
   "source": [
    "eng2ita = {}              # empty dictionary\n",
    "eng2ita['one'] = 'uno'    # this statement add a pair\n",
    "print(eng2ita)\n",
    "\n",
    "eng2ita = {'one' : 'uno',  'two' : 'due', 'three' : 'tre'} # initialize with 3 key-value pairs\n",
    "for k in eng2ita:  # scan a dictionary for keys\n",
    "    print(eng2ita[k])\n",
    "print('******************')\n",
    "print(eng2ita)\n",
    "\n"
   ]
  },
  {
   "cell_type": "markdown",
   "metadata": {},
   "source": [
    "The ```len()``` function works on dictionaries too, and returns the number of key-value pairs.\n",
    "\n",
    "Also the operator ```del```  works on dictionaries.\n",
    "\n",
    "The ```in``` operator works on dictionaries too, and tells us whether something appears as a *key*\n",
    "in the dictionary.\n",
    "\n",
    "To see whether something appears as a *value* in a dictionary, you can use the method ```.values()```  which returns a collection of values, and then use the ```in``` operator.\n",
    "\n",
    "For dictionaries, Python uses a technique called **hashtable** that has a remarkable property:\n",
    "the ```in``` operator takes about the **same amount of time** no matter how many items are\n",
    "in the dictionary. The same doesn't hold for lists, where the search is linear (as in principle a list is not sorted), and thus becomes very expensive on long lists."
   ]
  },
  {
   "cell_type": "code",
   "execution_count": 4,
   "metadata": {},
   "outputs": [
    {
     "name": "stdout",
     "output_type": "stream",
     "text": [
      "3\n",
      "True\n",
      "False\n",
      "dict_values(['uno', 'tre', 'due'])\n",
      "True\n",
      "{'three': 'tre', 'two': 'due'}\n"
     ]
    }
   ],
   "source": [
    "print(len(eng2ita))\n",
    "print('one' in eng2ita)\n",
    "print('uno' in eng2ita)  # 'uno is not found among the keys\n",
    "\n",
    "vals = eng2ita.values()  # return a collection of values, on which you can apply operator in\n",
    "print(vals)\n",
    "print('uno' in vals)     # 'uno' is found among the values \n",
    "\n",
    "if 'one' in eng2ita:\n",
    "    del eng2ita['one']       # remove the element with key 'uno'\n",
    "print(eng2ita)"
   ]
  },
  {
   "cell_type": "markdown",
   "metadata": {},
   "source": [
    "### A dictionary to build a histogram\n",
    "\n",
    "Suppose you are given a string and you want to count how many times each letter appears.\n",
    "Or you have a collection of words, and you want to count how many times each word appears in the collection.\n",
    "\n",
    "You could create a **dictionary** with the *elements to count* as **keys** and *counters* as the corresponding\n",
    "**values**. The first time you see a give elements, add the element to the dictionary, with value equal to 1. After that, you would increment the value of the existing element.\n",
    "\n",
    "An advantage of the **dictionary implementation** is that we\n",
    "don’t have to know ahead of time which element appear in the collection, and we only have to\n",
    "make room for elements that do appear.\n",
    "\n",
    "In the following we thus define a function ```histogram(elems)```, which is a *statistical term* for a collection of counters (or *frequencies*). We then apply the function to the collection of words of the book: *Alice in Wonderland*."
   ]
  },
  {
   "cell_type": "code",
   "execution_count": 5,
   "metadata": {},
   "outputs": [
    {
     "ename": "FileNotFoundError",
     "evalue": "[Errno 2] No such file or directory: 'Alice_in_Wonderland_ok.txt'",
     "output_type": "error",
     "traceback": [
      "\u001b[0;31m---------------------------------------------------------------------------\u001b[0m",
      "\u001b[0;31mFileNotFoundError\u001b[0m                         Traceback (most recent call last)",
      "\u001b[0;32m<ipython-input-5-5fe7f32f1581>\u001b[0m in \u001b[0;36m<module>\u001b[0;34m()\u001b[0m\n\u001b[0;32m----> 1\u001b[0;31m \u001b[0mf\u001b[0m \u001b[0;34m=\u001b[0m \u001b[0mopen\u001b[0m\u001b[0;34m(\u001b[0m\u001b[0;34m\"Alice_in_Wonderland_ok.txt\"\u001b[0m\u001b[0;34m)\u001b[0m  \u001b[0;31m# \"r\" is the default mode\u001b[0m\u001b[0;34m\u001b[0m\u001b[0m\n\u001b[0m\u001b[1;32m      2\u001b[0m \u001b[0mbook_content\u001b[0m \u001b[0;34m=\u001b[0m \u001b[0mf\u001b[0m\u001b[0;34m.\u001b[0m\u001b[0mread\u001b[0m\u001b[0;34m(\u001b[0m\u001b[0;34m)\u001b[0m                \u001b[0;31m# single string\u001b[0m\u001b[0;34m\u001b[0m\u001b[0m\n\u001b[1;32m      3\u001b[0m \u001b[0mf\u001b[0m\u001b[0;34m.\u001b[0m\u001b[0mclose\u001b[0m\u001b[0;34m(\u001b[0m\u001b[0;34m)\u001b[0m\u001b[0;34m\u001b[0m\u001b[0m\n\u001b[1;32m      4\u001b[0m \u001b[0;34m\u001b[0m\u001b[0m\n\u001b[1;32m      5\u001b[0m \u001b[0mbook_words\u001b[0m \u001b[0;34m=\u001b[0m \u001b[0mbook_content\u001b[0m\u001b[0;34m.\u001b[0m\u001b[0msplit\u001b[0m\u001b[0;34m(\u001b[0m\u001b[0;34m)\u001b[0m\u001b[0;34m\u001b[0m\u001b[0m\n",
      "\u001b[0;31mFileNotFoundError\u001b[0m: [Errno 2] No such file or directory: 'Alice_in_Wonderland_ok.txt'"
     ]
    }
   ],
   "source": [
    "f = open(\"Alice_in_Wonderland_ok.txt\")  # \"r\" is the default mode\n",
    "book_content = f.read()                # single string\n",
    "f.close()\n",
    "\n",
    "book_words = book_content.split()\n",
    "\n",
    "def histogram(elems):\n",
    "    \"\"\" \n",
    "        Algorithm to create and return a dictionary <key, value>, where 'key' belong\n",
    "        to the input collection 'elems', and 'value' if the count of how many time \n",
    "        'key' appear in 'elems' (frequency)\n",
    "        \n",
    "        Args:\n",
    "                 elems: a list of elements\n",
    "        Returns:\n",
    "                 the created dictionary\n",
    "    \"\"\"\n",
    "\n",
    "    histo = dict()\n",
    "    for e in elems:\n",
    "        if e not in histo:\n",
    "            histo[e] = 1\n",
    "        else:\n",
    "            histo[e] = histo[e] + 1\n",
    "    return histo\n",
    "        \n",
    "hist_dict = histogram(book_words)  # create the histogram\n",
    "#print(hist_dict)"
   ]
  },
  {
   "cell_type": "markdown",
   "metadata": {},
   "source": [
    "### Invert the histogram\n",
    "\n",
    "An interesting exercise is to invert the dictionary: for each value identify the list of keys that map to the same value. \n",
    "\n",
    "The following figure illustrates a dictionary along with the inverted dictionary, where the original dictionary maps single characters to integer counts.\n",
    "\n",
    "![Inverted Dictionary](./images/inverted_dict.png)\n",
    "\n",
    "We apply the new function ```def invert_dict(d)``` to the histogram dictionary of all the words of the book: *Alice in Wonderland*. \n",
    "Hence, for each count the interted dictionary identifies a list of words that occur the same number of times.\n",
    "\n",
    "Then we print the most frequent words, with the corresponding counts.\n",
    "\n",
    "Note that in the following we use an alternative method to sort lists. Besides the built-in ```sort()``` method that modifies the list in-place, python also provides the ```sorted()``` built-in function that builds a new sorted list from an iterable, e.g., from a list or a dictionary.\n",
    "\n"
   ]
  },
  {
   "cell_type": "code",
   "execution_count": 17,
   "metadata": {},
   "outputs": [
    {
     "name": "stdout",
     "output_type": "stream",
     "text": [
      "1514 : ['the']\n",
      "772 : ['and']\n",
      "716 : ['to']\n",
      "609 : ['a']\n",
      "498 : ['she']\n",
      "494 : ['of']\n",
      "480 : ['it']\n",
      "453 : ['said']\n",
      "396 : ['I']\n",
      "385 : ['Alice']\n",
      "353 : ['in']\n",
      "352 : ['was']\n",
      "307 : ['you']\n",
      "256 : ['that']\n",
      "245 : ['as']\n",
      "243 : ['her']\n",
      "199 : ['at']\n",
      "189 : ['on']\n",
      "177 : ['had']\n",
      "175 : ['with']\n",
      "171 : ['all']\n",
      "144 : ['be']\n",
      "139 : ['for']\n",
      "128 : ['not']\n",
      "126 : ['but', 'very']\n",
      "124 : ['little']\n",
      "121 : ['so']\n",
      "112 : ['out']\n",
      "111 : ['this']\n",
      "107 : ['they', 'The']\n",
      "98 : ['down']\n",
      "97 : ['he']\n",
      "96 : ['up']\n",
      "94 : ['his', 'about']\n",
      "91 : ['one']\n",
      "90 : ['is', 'what']\n",
      "89 : ['its']\n",
      "87 : ['were']\n",
      "84 : ['like']\n",
      "83 : ['herself', 'them', 'went']\n"
     ]
    }
   ],
   "source": [
    "def invert_dict(d):\n",
    "    \"\"\" \n",
    "        Algorithm to invert the input dictionary 'd', returning a new dictionary.\n",
    "        Each 'key' of the new dictionary is a 'value' of the old one.\n",
    "        Each 'value' of the new dictionary is a list of keys of the old dictionary, each mapping \n",
    "        to the same value (the new key)\n",
    "                \n",
    "        Args:\n",
    "                 d: the old dictionary\n",
    "        Returns:\n",
    "                 the created new inverted dictionary\n",
    "    \"\"\"\n",
    "    inverse = dict() # the new dictionary\n",
    "    for key in d:\n",
    "        val = d[key]\n",
    "        if val not in inverse:\n",
    "            inverse[val] = [key]\n",
    "        else:\n",
    "            inverse[val].append(key)\n",
    "    return inverse\n",
    "\n",
    "\n",
    "inverted = invert_dict(hist_dict)\n",
    "\n",
    "list_vals = []\n",
    "for v in inverted:\n",
    "    list_vals.append(v)\n",
    "list_vals.sort(reverse = True)  # sort in reverse order\n",
    "\n",
    "\n",
    "#list_vals = [v for v in inverted] # alternative 1 to produce the sorted list of keys\n",
    "#list_vals.sort(Reverse = True)\n",
    "\n",
    "\n",
    "#list_vals = sorted(inverted)  # alternative 2 to produce the sorted list of keys\n",
    "\n",
    "for i in list_vals[:40]:  # scan the first 40 most frequent elements\n",
    "        print(i,':',inverted[i])"
   ]
  },
  {
   "cell_type": "markdown",
   "metadata": {},
   "source": [
    "## MATPLOTLIB\n",
    "\n",
    "By using ```matplotlib```, we can plot for each frequency *f* the number of words occurring in the text  *f* times. \n",
    "\n",
    "See many possible examples here [matplotlib](https://matplotlib.org/gallery/index.html).\n"
   ]
  },
  {
   "cell_type": "code",
   "execution_count": 2,
   "metadata": {},
   "outputs": [
    {
     "ename": "NameError",
     "evalue": "name 'inverted' is not defined",
     "output_type": "error",
     "traceback": [
      "\u001b[0;31m---------------------------------------------------------------------------\u001b[0m",
      "\u001b[0;31mNameError\u001b[0m                                 Traceback (most recent call last)",
      "\u001b[0;32m<ipython-input-2-bd9888c0f51c>\u001b[0m in \u001b[0;36m<module>\u001b[0;34m()\u001b[0m\n\u001b[1;32m     10\u001b[0m \u001b[0;32mimport\u001b[0m \u001b[0mmatplotlib\u001b[0m\u001b[0;34m.\u001b[0m\u001b[0mpyplot\u001b[0m \u001b[0;32mas\u001b[0m \u001b[0mplt\u001b[0m\u001b[0;34m\u001b[0m\u001b[0m\n\u001b[1;32m     11\u001b[0m \u001b[0;34m\u001b[0m\u001b[0m\n\u001b[0;32m---> 12\u001b[0;31m \u001b[0mlist_freq\u001b[0m \u001b[0;34m=\u001b[0m \u001b[0msorted\u001b[0m\u001b[0;34m(\u001b[0m\u001b[0minverted\u001b[0m\u001b[0;34m)\u001b[0m\u001b[0;34m\u001b[0m\u001b[0m\n\u001b[0m\u001b[1;32m     13\u001b[0m \u001b[0mprint\u001b[0m\u001b[0;34m(\u001b[0m\u001b[0;34m\"Len of the list of frequencies: \"\u001b[0m\u001b[0;34m,\u001b[0m \u001b[0mlen\u001b[0m\u001b[0;34m(\u001b[0m\u001b[0mlist_vals\u001b[0m\u001b[0;34m)\u001b[0m\u001b[0;34m)\u001b[0m\u001b[0;34m\u001b[0m\u001b[0m\n\u001b[1;32m     14\u001b[0m \u001b[0mlist_num_words\u001b[0m \u001b[0;34m=\u001b[0m \u001b[0;34m[\u001b[0m\u001b[0;34m]\u001b[0m\u001b[0;34m\u001b[0m\u001b[0m\n",
      "\u001b[0;31mNameError\u001b[0m: name 'inverted' is not defined"
     ]
    }
   ],
   "source": [
    "#### This is a special command for the jupyter notebook\n",
    "# asking to render plots within the notebook itself\n",
    "# It should be used just one at the beginning of the notebbok\n",
    "%matplotlib notebook\n",
    "\n",
    "# This is the way we access to the matplotlib library\n",
    "# The main library name is matplotlib\n",
    "# We need the sub-package pyplot\n",
    "# and we want to refer to it with a friendly alias plt\n",
    "import matplotlib.pyplot as plt\n",
    "\n",
    "list_freq = sorted(inverted)\n",
    "print(\"Len of the list of frequencies: \", len(list_vals))\n",
    "list_num_words = []\n",
    "for  k in list_freq: \n",
    "    list_num_words.append(len(inverted[k]))\n",
    "                   \n",
    "# The simplest plot!\n",
    "# The 1st param is a list with the values for the X axis\n",
    "# The 2nd param is alist with the values for the Y axis\n",
    "# The 3rd param is the type of plot r=red  o=circles -=dash\n",
    "# The 4th param is the label of each (x,y) point\n",
    "plt.plot(list_freq, list_num_words, 'ro-', label = '# words')\n",
    "\n",
    "plt.xlabel(\"Frequency\", fontsize=12)\n",
    "plt.ylabel(\"Number of words\", fontsize=12)\n",
    "plt.title(\"Number of words for each frequency\", fontsize=14)\n",
    "plt.legend( loc='lower right', fontsize=8)\n",
    "\n",
    "#plt.show()\n"
   ]
  },
  {
   "cell_type": "markdown",
   "metadata": {},
   "source": [
    "The methods ```.items()```, ```.keys()```, and ```.values()``` returns the list of pairs, keys, and values of a dictionary: "
   ]
  },
  {
   "cell_type": "code",
   "execution_count": 19,
   "metadata": {},
   "outputs": [
    {
     "name": "stdout",
     "output_type": "stream",
     "text": [
      "dict_items([('id2', 'Marco'), ('id3', 'Luca'), ('id4', 'Giovanni'), ('id1', 'Andrea')])\n",
      "<class 'dict_items'>\n",
      "dict_keys(['id2', 'id3', 'id4', 'id1'])\n",
      "<class 'dict_keys'>\n",
      "dict_values(['Marco', 'Luca', 'Giovanni', 'Andrea'])\n",
      "<class 'dict_values'>\n"
     ]
    }
   ],
   "source": [
    "student_data = {\n",
    " 'id1': 'Andrea', \n",
    " 'id2': 'Marco',\n",
    " 'id3': 'Luca',\n",
    " 'id4': 'Giovanni'\n",
    "}\n",
    "\n",
    "print(student_data.items())\n",
    "print(type(student_data.items()))\n",
    "\n",
    "print(student_data.keys())\n",
    "print(type(student_data.keys()))\n",
    "\n",
    "print(student_data.values())\n",
    "print(type(student_data.values()))\n"
   ]
  },
  {
   "cell_type": "markdown",
   "metadata": {
    "collapsed": true
   },
   "source": [
    "## Exercises\n",
    "\n",
    "1. Write a Python function to combine two dictionaries, by adding values for common keys. \n",
    "2. Write a Python program to create a dictionary from a string, where each pair is ```(c, count)``` where ```c``` is a char of the string, and ```count``` registers the number of occurrences of the char in the string.\n",
    "3. Write a function that takes a date in the “dd-MMM-yy” format (a string) and responds with a tuple of integers ```(y , m, d)``` (a tuple in an immutable list). \n",
    "<br/>\n",
    "Create a *dictionary* suitable for decoding month names to numbers. Use the string operations to split the date into 3 items using the “-” character as a separator.\n",
    "Correct the year to include all of the digits (the years goes from 1950 till 2010).\n",
    "\n",
    "\n"
   ]
  }
 ],
 "metadata": {
  "kernelspec": {
   "display_name": "Python 3",
   "language": "python",
   "name": "python3"
  },
  "language_info": {
   "codemirror_mode": {
    "name": "ipython",
    "version": 3
   },
   "file_extension": ".py",
   "mimetype": "text/x-python",
   "name": "python",
   "nbconvert_exporter": "python",
   "pygments_lexer": "ipython3",
   "version": "3.5.2"
  }
 },
 "nbformat": 4,
 "nbformat_minor": 2
}
