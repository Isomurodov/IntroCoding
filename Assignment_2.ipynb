{
 "cells": [
  {
   "cell_type": "markdown",
   "metadata": {},
   "source": [
    "# Assignment 2\n",
    "### Ex 1\n",
    "\n",
    "Define a function that finds and prints the the indexes of all the occurrences of a substring in a string, and prints 'No' otherwise:\n",
    "```python\n",
    "             def find(string, substring):\n",
    "```"
   ]
  },
  {
   "cell_type": "markdown",
   "metadata": {},
   "source": [
    "### Ex 2\n",
    "Define a function, with a single string parameter, that adds *'ing'* at the end of the input string and returns the changed string. If the given string already ends with *'ing'* then add *'ly'* instead. \n",
    "\n",
    "If the string length of the input string is less than 3, leave it unchanged. \n",
    "\n",
    "(Examples: *'abc'* => *'abcing'*, *'string'* => *'stringly'*."
   ]
  },
  {
   "cell_type": "markdown",
   "metadata": {},
   "source": [
    "### Ex 3 \n",
    "Write a Python program to create a Caesar encryption. \n",
    "\n",
    "*Note* : In cryptography, a Caesar cipher - also known as Caesar's cipher, the shift cipher, Caesar's code, or Caesar shift - is one of the simplest and most widely known encryption techniques. \n",
    "\n",
    "It is a type of substitution cipher in which each letter in the plaintext is replaced by a letter some fixed number of positions down the alphabet. For example, with a left shift of 3, D would be replaced by A, E would become B, and so on. The method is named after Julius Caesar, who used it in his private correspondence."
   ]
  },
  {
   "cell_type": "markdown",
   "metadata": {},
   "source": [
    "### Ex 4\n",
    "Write a Python program to reverse a string."
   ]
  },
  {
   "cell_type": "markdown",
   "metadata": {},
   "source": [
    "### Ex 5\n",
    "Write a function that checks whether an input string is palidrome (sequence of  characters that reads the same backward as forward, such as madam, 1lol1, etc.), and return True or False."
   ]
  }
 ],
 "metadata": {
  "kernelspec": {
   "display_name": "Python 3",
   "language": "python",
   "name": "python3"
  },
  "language_info": {
   "codemirror_mode": {
    "name": "ipython",
    "version": 3
   },
   "file_extension": ".py",
   "mimetype": "text/x-python",
   "name": "python",
   "nbconvert_exporter": "python",
   "pygments_lexer": "ipython3",
   "version": "3.5.2"
  }
 },
 "nbformat": 4,
 "nbformat_minor": 2
}
