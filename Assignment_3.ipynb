{
 "cells": [
  {
   "cell_type": "markdown",
   "metadata": {
    "collapsed": true
   },
   "source": [
    "# Assignment 3\n",
    "\n",
    "#### Ex1\n",
    "Write a function `check_eq(l1, l2)` that takes two lists, and returns *True* if they are of the same length and contain the same elements. Return *False* otherwise."
   ]
  },
  {
   "cell_type": "markdown",
   "metadata": {},
   "source": [
    "#### Ex 2\n",
    "Write a function `remove_numb(li)`  that takes a list and returns the same list after removing all numbers.\n",
    "\n",
    "*HINT: see the following example that check the type of variables and elements of lists:*\n",
    "```python\n",
    "a = 1\n",
    "b = 0.5\n",
    "c = ['example', 2]\n",
    "print(isinstance(a, int))\n",
    "print(isinstance(b, float))\n",
    "print(isinstance(c, list))\n",
    "print(isinstance(c[0], str))\n",
    "```"
   ]
  },
  {
   "cell_type": "markdown",
   "metadata": {},
   "source": [
    "#### Ex 3\n",
    "Write a function `check_ord(list)` that takes a list of homogeneous elements where `len(list) > 1`. The program has to return `'ASC'` if the list is sorted in ascending order, `'DES'` if the list is sorted in descending order, `'NO'` otherwise."
   ]
  },
  {
   "cell_type": "markdown",
   "metadata": {},
   "source": [
    "#### Ex 4\n",
    "Write a function `rev_list(li)` that creates and returns a list with the same elements of the input list appearing in reverse order. "
   ]
  }
 ],
 "metadata": {
  "kernelspec": {
   "display_name": "Python 3",
   "language": "python",
   "name": "python3"
  },
  "language_info": {
   "codemirror_mode": {
    "name": "ipython",
    "version": 3
   },
   "file_extension": ".py",
   "mimetype": "text/x-python",
   "name": "python",
   "nbconvert_exporter": "python",
   "pygments_lexer": "ipython3",
   "version": "3.5.2"
  }
 },
 "nbformat": 4,
 "nbformat_minor": 2
}
